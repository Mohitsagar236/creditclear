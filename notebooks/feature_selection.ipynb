{
 "cells": [
  {
   "cell_type": "markdown",
   "id": "001e7377",
   "metadata": {},
   "source": [
    "# Credit Risk Model - Feature Selection\n",
    "\n",
    "This notebook focuses on selecting the most relevant features for our credit risk model using various feature selection techniques including:\n",
    "- Correlation analysis\n",
    "- Feature importance from tree-based models\n",
    "- Statistical tests\n",
    "- LASSO/Ridge regression"
   ]
  }
 ],
 "metadata": {
  "language_info": {
   "name": "python"
  }
 },
 "nbformat": 4,
 "nbformat_minor": 5
}
